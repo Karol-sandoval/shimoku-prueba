{
 "cells": [
  {
   "cell_type": "code",
   "execution_count": 2,
   "metadata": {},
   "outputs": [],
   "source": [
    "import sys"
   ]
  },
  {
   "cell_type": "code",
   "execution_count": 6,
   "metadata": {},
   "outputs": [
    {
     "name": "stdout",
     "output_type": "stream",
     "text": [
      "/home/kevinortiz/Documentos/Personal Projects/shimoku\n"
     ]
    }
   ],
   "source": [
    "!pwd"
   ]
  },
  {
   "cell_type": "code",
   "execution_count": 7,
   "metadata": {},
   "outputs": [],
   "source": [
    "from lead_scoring import main"
   ]
  },
  {
   "cell_type": "code",
   "execution_count": 8,
   "metadata": {},
   "outputs": [
    {
     "ename": "ValueError",
     "evalue": "You must provide either an API Key or Access Token",
     "output_type": "error",
     "traceback": [
      "\u001b[0;31m---------------------------------------------------------------------------\u001b[0m",
      "\u001b[0;31mValueError\u001b[0m                                Traceback (most recent call last)",
      "\u001b[1;32m/home/kevinortiz/Documentos/Personal Projects/shimoku/pruebas_scripts.ipynb Cell 4\u001b[0m line \u001b[0;36m1\n\u001b[0;32m----> <a href='vscode-notebook-cell:/home/kevinortiz/Documentos/Personal%20Projects/shimoku/pruebas_scripts.ipynb#W5sZmlsZQ%3D%3D?line=0'>1</a>\u001b[0m main()\n",
      "File \u001b[0;32m~/Documentos/Personal Projects/shimoku/lead_scoring.py:183\u001b[0m, in \u001b[0;36mmain\u001b[0;34m()\u001b[0m\n\u001b[1;32m    180\u001b[0m workspace_id: \u001b[39mstr\u001b[39m \u001b[39m=\u001b[39m getenv(\u001b[39m'\u001b[39m\u001b[39mWORKSPACE_ID\u001b[39m\u001b[39m'\u001b[39m)\n\u001b[1;32m    181\u001b[0m \u001b[39m# environment: str = getenv('ENVIRONMENT')\u001b[39;00m\n\u001b[0;32m--> 183\u001b[0m s \u001b[39m=\u001b[39m shimoku\u001b[39m.\u001b[39;49mClient(\n\u001b[1;32m    184\u001b[0m     access_token\u001b[39m=\u001b[39;49mapi_key,\n\u001b[1;32m    185\u001b[0m     universe_id\u001b[39m=\u001b[39;49muniverse_id,\n\u001b[1;32m    186\u001b[0m     \u001b[39m# environment=environment,\u001b[39;49;00m\n\u001b[1;32m    187\u001b[0m     async_execution\u001b[39m=\u001b[39;49m\u001b[39mTrue\u001b[39;49;00m,\n\u001b[1;32m    188\u001b[0m     verbosity\u001b[39m=\u001b[39;49m\u001b[39m'\u001b[39;49m\u001b[39mINFO\u001b[39;49m\u001b[39m'\u001b[39;49m,\n\u001b[1;32m    189\u001b[0m )\n\u001b[1;32m    190\u001b[0m s\u001b[39m.\u001b[39mset_workspace(workspace_id)\n\u001b[1;32m    191\u001b[0m s\u001b[39m.\u001b[39mset_menu_path(\u001b[39m'\u001b[39m\u001b[39mLead Scoring\u001b[39m\u001b[39m'\u001b[39m)\n",
      "File \u001b[0;32m~/Documentos/Personal Projects/shimoku/.venv/lib/python3.11/site-packages/shimoku_api_python/execution_logger.py:97\u001b[0m, in \u001b[0;36mlogging_before_and_after.<locals>.decorator.<locals>.wrapper\u001b[0;34m(*args, **kwargs)\u001b[0m\n\u001b[1;32m     95\u001b[0m \u001b[39mif\u001b[39;00m \u001b[39m'\u001b[39m\u001b[39mlogging_func_name\u001b[39m\u001b[39m'\u001b[39m \u001b[39min\u001b[39;00m kwargs:\n\u001b[1;32m     96\u001b[0m     kwargs\u001b[39m.\u001b[39mpop(\u001b[39m'\u001b[39m\u001b[39mlogging_func_name\u001b[39m\u001b[39m'\u001b[39m)\n\u001b[0;32m---> 97\u001b[0m result \u001b[39m=\u001b[39m func(\u001b[39m*\u001b[39;49margs, \u001b[39m*\u001b[39;49m\u001b[39m*\u001b[39;49mkwargs)\n\u001b[1;32m     98\u001b[0m after_call(initial_time, initial_memory, process, underlined_text)\n\u001b[1;32m     99\u001b[0m \u001b[39mreturn\u001b[39;00m result\n",
      "File \u001b[0;32m~/Documentos/Personal Projects/shimoku/.venv/lib/python3.11/site-packages/shimoku_api_python/__init__.py:68\u001b[0m, in \u001b[0;36mClient.__init__\u001b[0;34m(self, universe_id, environment, access_token, config, verbosity, async_execution, local_port, open_browser_for_local_server)\u001b[0m\n\u001b[1;32m     65\u001b[0m \u001b[39mif\u001b[39;00m access_token \u001b[39mand\u001b[39;00m access_token \u001b[39m!=\u001b[39m \u001b[39m\"\u001b[39m\u001b[39m\"\u001b[39m:\n\u001b[1;32m     66\u001b[0m     config \u001b[39m=\u001b[39m {\u001b[39m'\u001b[39m\u001b[39maccess_token\u001b[39m\u001b[39m'\u001b[39m: access_token}\n\u001b[0;32m---> 68\u001b[0m \u001b[39mself\u001b[39m\u001b[39m.\u001b[39m_api_client \u001b[39m=\u001b[39m ApiClient(config\u001b[39m=\u001b[39;49mconfig, environment\u001b[39m=\u001b[39;49menvironment, playground\u001b[39m=\u001b[39;49mplayground,\n\u001b[1;32m     69\u001b[0m                              server_host\u001b[39m=\u001b[39;49m\u001b[39mself\u001b[39;49m\u001b[39m.\u001b[39;49mserver_host, server_port\u001b[39m=\u001b[39;49mlocal_port)\n\u001b[1;32m     71\u001b[0m \u001b[39mself\u001b[39m\u001b[39m.\u001b[39m_universe_object \u001b[39m=\u001b[39m Universe(\u001b[39mself\u001b[39m\u001b[39m.\u001b[39m_api_client, uuid\u001b[39m=\u001b[39muniverse_id)\n\u001b[1;32m     72\u001b[0m \u001b[39mself\u001b[39m\u001b[39m.\u001b[39m_business_object: Optional[Business] \u001b[39m=\u001b[39m \u001b[39mNone\u001b[39;00m\n",
      "File \u001b[0;32m~/Documentos/Personal Projects/shimoku/.venv/lib/python3.11/site-packages/shimoku_api_python/execution_logger.py:97\u001b[0m, in \u001b[0;36mlogging_before_and_after.<locals>.decorator.<locals>.wrapper\u001b[0;34m(*args, **kwargs)\u001b[0m\n\u001b[1;32m     95\u001b[0m \u001b[39mif\u001b[39;00m \u001b[39m'\u001b[39m\u001b[39mlogging_func_name\u001b[39m\u001b[39m'\u001b[39m \u001b[39min\u001b[39;00m kwargs:\n\u001b[1;32m     96\u001b[0m     kwargs\u001b[39m.\u001b[39mpop(\u001b[39m'\u001b[39m\u001b[39mlogging_func_name\u001b[39m\u001b[39m'\u001b[39m)\n\u001b[0;32m---> 97\u001b[0m result \u001b[39m=\u001b[39m func(\u001b[39m*\u001b[39;49margs, \u001b[39m*\u001b[39;49m\u001b[39m*\u001b[39;49mkwargs)\n\u001b[1;32m     98\u001b[0m after_call(initial_time, initial_memory, process, underlined_text)\n\u001b[1;32m     99\u001b[0m \u001b[39mreturn\u001b[39;00m result\n",
      "File \u001b[0;32m~/Documentos/Personal Projects/shimoku/.venv/lib/python3.11/site-packages/shimoku_api_python/client.py:70\u001b[0m, in \u001b[0;36mApiClient.__init__\u001b[0;34m(self, environment, playground, config, server_host, server_port)\u001b[0m\n\u001b[1;32m     64\u001b[0m \u001b[39mself\u001b[39m\u001b[39m.\u001b[39mtimeout: \u001b[39mint\u001b[39m \u001b[39m=\u001b[39m \u001b[39m120\u001b[39m\n\u001b[1;32m     66\u001b[0m \u001b[39mself\u001b[39m\u001b[39m.\u001b[39mdefault_headers \u001b[39m=\u001b[39m {\n\u001b[1;32m     67\u001b[0m     \u001b[39m'\u001b[39m\u001b[39mContent-Type\u001b[39m\u001b[39m'\u001b[39m: \u001b[39m'\u001b[39m\u001b[39mapplication/json\u001b[39m\u001b[39m'\u001b[39m,\n\u001b[1;32m     68\u001b[0m     \u001b[39m'\u001b[39m\u001b[39mUser-Agent\u001b[39m\u001b[39m'\u001b[39m: \u001b[39m'\u001b[39m\u001b[39mSwagger-Codegen/0.0/python\u001b[39m\u001b[39m'\u001b[39m\n\u001b[1;32m     69\u001b[0m }\n\u001b[0;32m---> 70\u001b[0m \u001b[39mself\u001b[39;49m\u001b[39m.\u001b[39;49mset_config(config)\n\u001b[1;32m     71\u001b[0m \u001b[39mself\u001b[39m\u001b[39m.\u001b[39mcall_counter \u001b[39m=\u001b[39m \u001b[39m0\u001b[39m\n",
      "File \u001b[0;32m~/Documentos/Personal Projects/shimoku/.venv/lib/python3.11/site-packages/shimoku_api_python/execution_logger.py:97\u001b[0m, in \u001b[0;36mlogging_before_and_after.<locals>.decorator.<locals>.wrapper\u001b[0;34m(*args, **kwargs)\u001b[0m\n\u001b[1;32m     95\u001b[0m \u001b[39mif\u001b[39;00m \u001b[39m'\u001b[39m\u001b[39mlogging_func_name\u001b[39m\u001b[39m'\u001b[39m \u001b[39min\u001b[39;00m kwargs:\n\u001b[1;32m     96\u001b[0m     kwargs\u001b[39m.\u001b[39mpop(\u001b[39m'\u001b[39m\u001b[39mlogging_func_name\u001b[39m\u001b[39m'\u001b[39m)\n\u001b[0;32m---> 97\u001b[0m result \u001b[39m=\u001b[39m func(\u001b[39m*\u001b[39;49margs, \u001b[39m*\u001b[39;49m\u001b[39m*\u001b[39;49mkwargs)\n\u001b[1;32m     98\u001b[0m after_call(initial_time, initial_memory, process, underlined_text)\n\u001b[1;32m     99\u001b[0m \u001b[39mreturn\u001b[39;00m result\n",
      "File \u001b[0;32m~/Documentos/Personal Projects/shimoku/.venv/lib/python3.11/site-packages/shimoku_api_python/client.py:87\u001b[0m, in \u001b[0;36mApiClient.set_config\u001b[0;34m(self, config)\u001b[0m\n\u001b[1;32m     84\u001b[0m \u001b[39mself\u001b[39m\u001b[39m.\u001b[39mis_oauth: \u001b[39mbool\u001b[39m \u001b[39m=\u001b[39m \u001b[39mself\u001b[39m\u001b[39m.\u001b[39maccess_token \u001b[39m!=\u001b[39m \u001b[39m'\u001b[39m\u001b[39m'\u001b[39m\n\u001b[1;32m     86\u001b[0m \u001b[39mif\u001b[39;00m \u001b[39mnot\u001b[39;00m \u001b[39mself\u001b[39m\u001b[39m.\u001b[39mis_oauth \u001b[39mand\u001b[39;00m \u001b[39mnot\u001b[39;00m \u001b[39mself\u001b[39m\u001b[39m.\u001b[39mis_basic_auth:\n\u001b[0;32m---> 87\u001b[0m     \u001b[39mraise\u001b[39;00m \u001b[39mValueError\u001b[39;00m(\u001b[39m'\u001b[39m\u001b[39mYou must provide either an API Key or Access Token\u001b[39m\u001b[39m'\u001b[39m)\n\u001b[1;32m     89\u001b[0m \u001b[39m# If using Basic auth and no server is provided,\u001b[39;00m\n\u001b[1;32m     90\u001b[0m \u001b[39m# attempt to extract it from the api_key directly.\u001b[39;00m\n\u001b[1;32m     91\u001b[0m \u001b[39mself\u001b[39m\u001b[39m.\u001b[39mserver: \u001b[39mstr\u001b[39m \u001b[39m=\u001b[39m config[\u001b[39m'\u001b[39m\u001b[39mserver\u001b[39m\u001b[39m'\u001b[39m] \u001b[39mif\u001b[39;00m \u001b[39m'\u001b[39m\u001b[39mserver\u001b[39m\u001b[39m'\u001b[39m \u001b[39min\u001b[39;00m config\u001b[39m.\u001b[39mkeys() \u001b[39melse\u001b[39;00m \u001b[39m'\u001b[39m\u001b[39minvalid-server\u001b[39m\u001b[39m'\u001b[39m\n",
      "\u001b[0;31mValueError\u001b[0m: You must provide either an API Key or Access Token"
     ]
    }
   ],
   "source": [
    "main()"
   ]
  }
 ],
 "metadata": {
  "kernelspec": {
   "display_name": ".venv",
   "language": "python",
   "name": "python3"
  },
  "language_info": {
   "codemirror_mode": {
    "name": "ipython",
    "version": 3
   },
   "file_extension": ".py",
   "mimetype": "text/x-python",
   "name": "python",
   "nbconvert_exporter": "python",
   "pygments_lexer": "ipython3",
   "version": "3.11.7"
  },
  "orig_nbformat": 4
 },
 "nbformat": 4,
 "nbformat_minor": 2
}
